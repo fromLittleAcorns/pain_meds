{
 "cells": [
  {
   "cell_type": "markdown",
   "id": "91787aef",
   "metadata": {},
   "source": [
    "### Notebook to process data about drug use\n",
    "\n",
    "Developed by John Richmond and Helen Richmond\n",
    "\n",
    "The notebook used fuzzy logic and matching to group pain medications into sets and then consolidate to using a unique name for each drug.  This is necessary to ensure that drugs that have been mis-spelt are not classified differently to the drug with the correct spelling.\n",
    "\n",
    "After consolidation of the drug names analysis of different usage patterns is carried out"
   ]
  },
  {
   "cell_type": "code",
   "execution_count": null,
   "id": "e61a1bd9",
   "metadata": {},
   "outputs": [],
   "source": [
    "import os\n",
    "import numpy as np\n",
    "import pandas as pd\n",
    "from pathlib import Path\n",
    "from fuzzywuzzy import fuzz\n",
    "from fuzzywuzzy import process"
   ]
  },
  {
   "cell_type": "markdown",
   "id": "7ec41246",
   "metadata": {},
   "source": [
    "#### Create a list of common brand names.  \n",
    "This will be used to search for drugs named by brand so that they can be replaced by the correct name in the final datafrsame"
   ]
  },
  {
   "cell_type": "code",
   "execution_count": null,
   "id": "ab100d9c",
   "metadata": {},
   "outputs": [],
   "source": [
    "brand_names = [\"Nu-Seals 75\", \"Lyflex\", \"Bupeaze\", \"Butec\", \"BuTranz\", \"Transtec\", \"Axsain\", \"Zacin\", \n",
    "    \"Zapian\", \"Solpadeine\", \"Codipar\", \"Kapake\", \"Tylex\", \"Volterol\", \"Arthrotec\", \"Arcoxia\", \"Fencino patches\",\n",
    "    \"Neurontin\", \"Fenbid gel\", \"Ibugel\", \"Ibuleve gel\", \"Nurofen\", \"Powergel\",  \"Sevredol\", \"MST Continus\", \n",
    "    \"Morphgesic\", \"Zomorph\", \"Oramorph\", \"Naprosyn\", \"Stirlescent\", \"Oxyact\", \"Longtec\", \"OxyContin\", \n",
    "    \"Oxylan\", \"Lynlor\", \"OxyNorm\", \"Shortec\", \"Losec\", \"Mandanol\", \"Calpol\", \"Panadol\", \"Feldene\",\n",
    "    \"Alzain\", \"Lyrica\", \"Palexia\", \"Ationdo\", \"Marol\", \"Tradorec\", \"Zydol\"]"
   ]
  },
  {
   "cell_type": "markdown",
   "id": "c9e917bf",
   "metadata": {},
   "source": [
    "#### Create a list of pain med drug names to be used for this work"
   ]
  },
  {
   "cell_type": "code",
   "execution_count": null,
   "id": "ca6ac7ae",
   "metadata": {},
   "outputs": [],
   "source": [
    "drug_names = [\n",
    "    'Amitriptyline', \n",
    "    'Aspirin',\n",
    "    'Baclofen',\n",
    "    'Buprenorphine',\n",
    "    'Capsaicin',\n",
    "    'Celecoxib',\n",
    "    'Co-codamol',\n",
    "    'Co-dydramol',\n",
    "    'Codeine',\n",
    "    'Diazepam',\n",
    "    'Diclofenac Sodium',\n",
    "    'Dihydrocodiene',\n",
    "    'Duloxetine',\n",
    "    'Etoricoxib',\n",
    "    'Fentanyl',\n",
    "    'Gabapentin',\n",
    "    'Ibuprofen',\n",
    "    'Ketoprofen',\n",
    "    'Meloxicam',\n",
    "    'Morphine Sulphate',\n",
    "    'Naproxen',\n",
    "    'Oxycodone',\n",
    "    'Paracetamol',\n",
    "    'Piroxicam',\n",
    "    'Pregabalin',\n",
    "    'Tapentadol',\n",
    "    'Tramadol'\n",
    "]"
   ]
  },
  {
   "cell_type": "markdown",
   "id": "7f2713a7",
   "metadata": {},
   "source": [
    "#### Create a list of the drugs that are controlled (must be a subset of the above drug_names "
   ]
  },
  {
   "cell_type": "code",
   "execution_count": null,
   "id": "c09ba0f0",
   "metadata": {},
   "outputs": [],
   "source": [
    "controlled_drugs = [\n",
    " 'Buprenorphine',\n",
    " 'Diazepam',\n",
    " 'Fentanyl',\n",
    " 'Gabapentin',\n",
    " 'Morphine Sulphate',\n",
    " 'Oxycodone',\n",
    " 'Pregabalin',\n",
    " 'Tapentadol',\n",
    " 'Tramadol']"
   ]
  },
  {
   "cell_type": "markdown",
   "id": "25998bbf",
   "metadata": {},
   "source": [
    "### Read in the base datafile and a datafile with additional variables\n",
    "Note that both files are linked by having common ssid columns"
   ]
  },
  {
   "cell_type": "markdown",
   "id": "b6e7af8d",
   "metadata": {},
   "source": [
    "Assume that the datafiles are in the data folder of the repository.  If not change the path_to_data variable below to the location of the datafiles"
   ]
  },
  {
   "cell_type": "code",
   "execution_count": null,
   "id": "4b4ba333",
   "metadata": {},
   "outputs": [],
   "source": [
    "path_to_data = Path(os.getcwd()).parent / \"data\""
   ]
  },
  {
   "cell_type": "markdown",
   "id": "67ef75fb-bae6-4e66-84c4-18a312f45278",
   "metadata": {},
   "source": [
    "Load the main data into a Pandas DataFrame"
   ]
  },
  {
   "cell_type": "code",
   "execution_count": null,
   "id": "c1e66e91",
   "metadata": {},
   "outputs": [],
   "source": [
    "file_name = \"BOOST_RawData3.csv\"\n",
    "full_path = os.path.join(path_to_data, file_name)\n",
    "initial_df = pd.read_csv(full_path)"
   ]
  },
  {
   "cell_type": "markdown",
   "id": "c8d426ae-3cee-4c39-9a51-aa178d89f84c",
   "metadata": {},
   "source": [
    "Read in the additional data csv file"
   ]
  },
  {
   "cell_type": "code",
   "execution_count": null,
   "id": "cddacb17",
   "metadata": {},
   "outputs": [],
   "source": [
    "additional_data = 'BOOST_additional_variables.csv'\n",
    "add_df = pd.read_csv(os.path.join(path_to_data, additional_data))"
   ]
  },
  {
   "cell_type": "markdown",
   "id": "4c8da5b2",
   "metadata": {},
   "source": [
    "### Remove unwanted columns from the additional DataFrame  "
   ]
  },
  {
   "cell_type": "code",
   "execution_count": null,
   "id": "d83609c0",
   "metadata": {},
   "outputs": [],
   "source": [
    "add_columns_to_retain = [\n",
    "    'ssid', 'RRAMP_treatment_arm','base_pain_intensity', 'base_ODI', 'fuPQ6_ODI', 'Change_6M_ODI_all'\n",
    "]\n",
    "add_df = add_df[add_columns_to_retain]\n",
    "add_df.head()"
   ]
  },
  {
   "cell_type": "markdown",
   "id": "4dc1be52",
   "metadata": {},
   "source": [
    "### Check details of the main DataFrame"
   ]
  },
  {
   "cell_type": "code",
   "execution_count": null,
   "id": "5076fedd",
   "metadata": {},
   "outputs": [],
   "source": [
    "# Check how many entries there are\n",
    "len(initial_df) "
   ]
  },
  {
   "cell_type": "code",
   "execution_count": null,
   "id": "080e85f8",
   "metadata": {},
   "outputs": [],
   "source": [
    "initial_df.loc[5, 'base_medication_name_7']"
   ]
  },
  {
   "cell_type": "code",
   "execution_count": null,
   "id": "000597ac",
   "metadata": {},
   "outputs": [],
   "source": [
    "initial_df.columns"
   ]
  },
  {
   "cell_type": "markdown",
   "id": "daff6925",
   "metadata": {},
   "source": [
    "### Create a list of all of the drug names in the dataframe.\n",
    "All of the drugs are in the columns starting with 'base_medication_name', hence create a list of these columns to support processing them.\n",
    "\n",
    "After that a set of unique names will be created.  This will include mis-spelt names and brand names which will then have to be replaced by the correct drug names"
   ]
  },
  {
   "cell_type": "code",
   "execution_count": null,
   "id": "bb762b43",
   "metadata": {},
   "outputs": [],
   "source": [
    "columns = [name for name in initial_df.columns if name.startswith(\"base_medication_name\")]"
   ]
  },
  {
   "cell_type": "code",
   "execution_count": null,
   "id": "7471e316",
   "metadata": {},
   "outputs": [],
   "source": [
    "columns"
   ]
  },
  {
   "cell_type": "code",
   "execution_count": null,
   "id": "fe05eddd",
   "metadata": {},
   "outputs": [],
   "source": [
    "all_names = []\n",
    "for column in columns:\n",
    "    names = initial_df[column].values.tolist()\n",
    "    for name in names:\n",
    "        all_names.append(name)\n",
    "unique_names = set(all_names)"
   ]
  },
  {
   "cell_type": "code",
   "execution_count": null,
   "id": "f40a7181",
   "metadata": {},
   "outputs": [],
   "source": [
    "len(all_names), len(unique_names)"
   ]
  },
  {
   "cell_type": "code",
   "execution_count": null,
   "id": "0746b6b3",
   "metadata": {
    "scrolled": true
   },
   "outputs": [],
   "source": [
    "unique_names"
   ]
  },
  {
   "cell_type": "markdown",
   "id": "6703d6be",
   "metadata": {},
   "source": [
    "Identify all of the brand names in the set of unique names"
   ]
  },
  {
   "cell_type": "code",
   "execution_count": null,
   "id": "d0ba6359",
   "metadata": {},
   "outputs": [],
   "source": [
    "for name in unique_names:\n",
    "    if name in brand_names:\n",
    "        print(name)"
   ]
  },
  {
   "cell_type": "markdown",
   "id": "7b6ef57d",
   "metadata": {},
   "source": [
    "### Create dictionary for each drug\n",
    "To facilitate replacing all of the mis-spelt or brand names with the correct drug name a dictionary will be created that lists all of the names in the unique_names set with the correct drug_name as the key\n",
    "\n",
    "This will be done using the fuzzywuzzy library.\n",
    "\n",
    "Following trial and error it has been found that best results are obtained using the partial ratio method of that library, with a threshold or 75%.  This will require some manual cleaning and manipulation afterwards but works well"
   ]
  },
  {
   "cell_type": "code",
   "execution_count": null,
   "id": "70d0f828",
   "metadata": {},
   "outputs": [],
   "source": [
    "def get_matches(drug_names, unique_names, pr_threshold, tr_threshold):\n",
    "    unique_names_arr = np.asarray(list(unique_names))\n",
    "    pr_drugs_dict = {}\n",
    "    tr_drugs_dict = {}\n",
    "    for drug in drug_names:\n",
    "        partial_ratios = []\n",
    "        token_ratios = []\n",
    "        for name in unique_names:\n",
    "            partial_ratio = fuzz.partial_ratio(drug.lower(), name)\n",
    "            partial_ratios.append(partial_ratio)\n",
    "            token_ratio = fuzz.token_sort_ratio(drug, name)\n",
    "            token_ratios.append(token_ratio)\n",
    "        pr_arr = np.asarray(partial_ratios)\n",
    "        tr_arr = np.asarray(token_ratios)\n",
    "        pr_matches = unique_names_arr[np.nonzero(pr_arr>pr_threshold)]\n",
    "        tr_matches = unique_names_arr[np.nonzero(tr_arr>tr_threshold)]\n",
    "        pr_drugs_dict[drug] = pr_matches.tolist()\n",
    "        tr_drugs_dict[drug] = tr_matches.tolist()\n",
    "    return pr_drugs_dict, tr_drugs_dict"
   ]
  },
  {
   "cell_type": "code",
   "execution_count": null,
   "id": "72d72ab0",
   "metadata": {},
   "outputs": [],
   "source": [
    "pr_matches_75, tr_matches_75 = get_matches(drug_names, unique_names, 75, 75)"
   ]
  },
  {
   "cell_type": "code",
   "execution_count": null,
   "id": "012a6439",
   "metadata": {},
   "outputs": [],
   "source": [
    "tr_matches_75"
   ]
  },
  {
   "cell_type": "code",
   "execution_count": null,
   "id": "a789cd94",
   "metadata": {},
   "outputs": [],
   "source": [
    "pr_matches_75"
   ]
  },
  {
   "cell_type": "markdown",
   "id": "2c653c9e",
   "metadata": {},
   "source": [
    "#### Manually correct the above dictionaries and add in brand names where necessary"
   ]
  },
  {
   "cell_type": "code",
   "execution_count": null,
   "id": "5e6a66e4",
   "metadata": {},
   "outputs": [],
   "source": [
    "final_dict = pr_matches_75\n",
    "# Note - removed 'Zapai' from below,\n",
    "final_dict['Capsaicin'] = ['Capsaicin']\n",
    "\n",
    "final_dict['Co-codamol'] = [\n",
    "    'Cocodamol',\n",
    "    'Co-codamol',\n",
    "    'Co-Codamol',\n",
    "    'co codamol effervescent'\n",
    "]\n",
    "\n",
    "final_dict['Co-dydramol'] = [\n",
    "    'Co-Drydramol',\n",
    "    'CO-dydramol',\n",
    "    'Co-Dydramol',\n",
    "    'Co-dydramol',\n",
    "    'Codydramol'\n",
    "]\n",
    "\n",
    "# removed 'dihydrocodiene',   'dihydracodeine',  'dihydrcodeine', from below\n",
    "final_dict['Codeine'] = [\n",
    "    'codeine sulphate',\n",
    "    'codeine phosphate',\n",
    "    'codiene',\n",
    "    'codeine phosalate',\n",
    "    'codeine'\n",
    "]\n",
    "\n",
    "# removed ' ' from below, \n",
    "final_dict['Diclofenac Sodium'] = ['diclofenac', 'Diclofenac Sodium', 'Diclofenac']\n",
    "\n",
    "# removed 'Codiene' from below\n",
    "final_dict['Dihydrocodiene'] = [\n",
    "    'Dihydrocodiene',\n",
    "    'Dihydrcodeine',\n",
    "    'Dihydracodeine',\n",
    "    'Dihydrocoedrene'\n",
    "]\n",
    "\n",
    "# removed 'Fluxetine', 'Fluoxetine' from below\n",
    "final_dict['Duloxetine'] = ['Duloxetine']\n",
    "\n",
    "# removed , 'Estradiol', added brands 'Tradorac', 'Marol' from below\n",
    "final_dict['Tramadol'] = ['Tramadol', 'Tradorac', 'Marol']\n",
    "\n",
    "# Brands\n",
    "final_dict['Pregabalin'] =  ['Pregabalin', 'Pregablin', 'Lyrica']\n",
    "final_dict['Morphine Sulphate'] = ['Morphine Sulphate', 'Butran 10 morphine patches', 'Oramorph']\n",
    "final_dict['Diclofenac Sodium'] = ['diclofenac', 'Diclofenac Sodium', 'Diclofenac', 'Volterol']\n",
    "final_dict[ 'Ibuprofen'] = [\n",
    "    'Ibuprofen',\n",
    "    'ibuprofen',\n",
    "    'Ibuprofen pain relief',\n",
    "    'Ibuprofen Gel',\n",
    "    'Ibuprofen gel',\n",
    "    'Fenbid gel'\n",
    "]\n",
    "final_dict['Paracetamol'] = [\n",
    "    'Panadol/Paracetamol',\n",
    "    'Takes paracetamol from pharmacy',\n",
    "    'Paracetemol',\n",
    "    'Paracetamol',\n",
    "    'Panadol'\n",
    "]\n",
    "final_dict['Buprenorphine'] = ['Butec']\n",
    "final_dict['Fentanyl'] = ['Fentanyl lozenge', 'Fencino patches']\n",
    "final_dict['Oxycodone'] = ['Oxycodone Hydrochloride', 'Losec']\n",
    "final_dict"
   ]
  },
  {
   "cell_type": "markdown",
   "id": "2764f7fe-0b22-4392-ac7c-76d5c1bd565d",
   "metadata": {},
   "source": [
    "Save the dictionary for subsequent use"
   ]
  },
  {
   "cell_type": "code",
   "execution_count": null,
   "id": "2c7cc4b9",
   "metadata": {},
   "outputs": [],
   "source": [
    "import pickle"
   ]
  },
  {
   "cell_type": "code",
   "execution_count": null,
   "id": "cc45fe94",
   "metadata": {},
   "outputs": [],
   "source": [
    "dict_name = 'drug_dict.pkl'\n",
    "dict_path = path_to_data / Path(dict_name)\n",
    "with open(dict_path, 'wb') as dict_file:\n",
    "    pickle.dump(final_dict, dict_file)"
   ]
  },
  {
   "cell_type": "markdown",
   "id": "2d71abd2-b78b-4bed-8cab-d2d1ae4bd170",
   "metadata": {},
   "source": [
    "At this point the user should move to notebook 2, "
   ]
  },
  {
   "cell_type": "code",
   "execution_count": null,
   "id": "1abda882",
   "metadata": {},
   "outputs": [],
   "source": [
    "dict_name = \"new_final_dict.pkl\"\n",
    "dict_path = path_to_data / Path(dict_name)\n",
    "with open(dict_path, 'rb') as dict_file:\n",
    "    final_dict2 = pickle.load(dict_file)"
   ]
  },
  {
   "cell_type": "code",
   "execution_count": null,
   "id": "39d5a8b1",
   "metadata": {},
   "outputs": [],
   "source": [
    "final_dict==final_dict2"
   ]
  },
  {
   "cell_type": "code",
   "execution_count": null,
   "id": "398c93f5-0dc1-49db-9416-d646137d08ea",
   "metadata": {},
   "outputs": [],
   "source": [
    "for key in final_dict.keys():\n",
    "    if final_dict[key] != final_dict2[key]:\n",
    "        print(f'{key}')"
   ]
  },
  {
   "cell_type": "code",
   "execution_count": null,
   "id": "e67ce0f6-1876-48ef-8aee-3d220c77ad6f",
   "metadata": {},
   "outputs": [],
   "source": [
    "key = 'Aspirin'\n",
    "print(f\"{final_dict[key]}, \\n {final_dict2[key]}\")"
   ]
  },
  {
   "cell_type": "markdown",
   "id": "f92700ef",
   "metadata": {},
   "source": [
    "#### Create new array with just the medication columns"
   ]
  },
  {
   "cell_type": "code",
   "execution_count": null,
   "id": "10c69a23",
   "metadata": {},
   "outputs": [],
   "source": [
    "###  Create new dataframe with corrected values\n",
    "columns_to_use = [\"ssid\"]+columns\n",
    "columns_to_use"
   ]
  },
  {
   "cell_type": "code",
   "execution_count": null,
   "id": "93fbaf38",
   "metadata": {},
   "outputs": [],
   "source": [
    "new_df = initial_df[columns_to_use]\n",
    "new_df = new_df.set_index('ssid')"
   ]
  },
  {
   "cell_type": "markdown",
   "id": "e57076d7",
   "metadata": {},
   "source": [
    "### Loop around replacing mis-spelt names with correct ones"
   ]
  },
  {
   "cell_type": "code",
   "execution_count": null,
   "id": "d73369ba",
   "metadata": {},
   "outputs": [],
   "source": [
    "for drug in drug_names:\n",
    "    new_df = new_df.replace(final_dict[drug], drug)"
   ]
  },
  {
   "cell_type": "code",
   "execution_count": null,
   "id": "e97e5484",
   "metadata": {},
   "outputs": [],
   "source": [
    "new_df.head(6)"
   ]
  },
  {
   "cell_type": "code",
   "execution_count": null,
   "id": "c9307bbe",
   "metadata": {},
   "outputs": [],
   "source": [
    "# Save clean meds dataframe\n",
    "new_df.to_csv(os.path.join(path_to_dir, 'clean_pain_meds.csv'))"
   ]
  },
  {
   "cell_type": "markdown",
   "id": "1f6842a8",
   "metadata": {},
   "source": [
    "### Merge in the additional data"
   ]
  },
  {
   "cell_type": "code",
   "execution_count": null,
   "id": "95a14c98",
   "metadata": {},
   "outputs": [],
   "source": [
    "# Set inded as ssid to be the same as new_df\n",
    "add_df = add_df.set_index('ssid')\n",
    "add_df.head()"
   ]
  },
  {
   "cell_type": "code",
   "execution_count": null,
   "id": "de285d9d",
   "metadata": {},
   "outputs": [],
   "source": [
    "# Using the default merge 'inner' since in this case both dataframes have the same indexed and rows\n",
    "# If this is not the case it might be necessary to adjust the merge\n",
    "merged_df = new_df.merge(add_df, left_index=True, right_index=True)"
   ]
  },
  {
   "cell_type": "code",
   "execution_count": null,
   "id": "fad9aedd",
   "metadata": {},
   "outputs": [],
   "source": [
    "merged_df"
   ]
  },
  {
   "cell_type": "markdown",
   "id": "76598f51",
   "metadata": {},
   "source": [
    "### Process the DataFrame to add additional columsn with counts of the pain meds being taken by each patient"
   ]
  },
  {
   "cell_type": "code",
   "execution_count": null,
   "id": "5e507a87",
   "metadata": {},
   "outputs": [],
   "source": [
    "def count_pain_meds(row: pd.Series, drug_set: list) -> int:\n",
    "    \"\"\" count the number of entries the patient is taking that are in the drug set given\n",
    "    \n",
    "    args:\n",
    "        row (pd.Series): series representing a row of a DataFrame\n",
    "        drug_set (list): list of the drugs to be included in the count\n",
    "        \n",
    "    return:\n",
    "        count (int): Number of drugs in the set being taken by the patient\n",
    "    \"\"\"\n",
    "    count=0\n",
    "    for col in row:\n",
    "        if col in drug_set:\n",
    "            count +=1\n",
    "    return count\n",
    "\n",
    "\n",
    "def get_class_of_drug(row: pd.Series) -> int:\n",
    "    \"\"\" returns a value to represent the class of the strongest pain drug being taken by a patient\n",
    "    \n",
    "    args:\n",
    "        row (pd.Series): series representing a row of a DataFrame\n",
    "        \n",
    "    returns:\n",
    "        int: 0 if no pain meds, 1 if no controlled drugs, 2 if the patient in using controlled drugs\n",
    "    \"\"\"\n",
    "    contr_drugs = row['Num_contr_meds']\n",
    "    non_cont_drugs = row['Num_pain_meds']\n",
    "    if non_cont_drugs == 0 & contr_drugs==0:\n",
    "        return 0\n",
    "    if contr_drugs > 0:\n",
    "        return 2\n",
    "    else:\n",
    "        return 1"
   ]
  },
  {
   "cell_type": "code",
   "execution_count": null,
   "id": "e380d6b3",
   "metadata": {
    "scrolled": true
   },
   "outputs": [],
   "source": [
    "# Add additional columns defining the number of pain meds total and the number of controlled pain meds\n",
    "merged_df['Num_pain_meds'] = merged_df.apply(lambda x: count_pain_meds(x, drug_names), axis=1)\n",
    "merged_df['Num_contr_meds'] = merged_df.apply(lambda x: count_pain_meds(x, controlled_drugs), axis=1)\n",
    "merged_df.head(20)"
   ]
  },
  {
   "cell_type": "code",
   "execution_count": null,
   "id": "332b6af6",
   "metadata": {},
   "outputs": [],
   "source": [
    "# Add a column to indicate the class of the strongest drug\n",
    "merged_df['class_drugs'] = merged_df.apply(get_class_of_drug, axis=1)\n",
    "merged_df.head()"
   ]
  },
  {
   "cell_type": "code",
   "execution_count": null,
   "id": "510d9c34",
   "metadata": {},
   "outputs": [],
   "source": [
    "merged_df"
   ]
  },
  {
   "cell_type": "code",
   "execution_count": null,
   "id": "2ad334ce",
   "metadata": {},
   "outputs": [],
   "source": [
    "merged_df['class_drugs'].sum()"
   ]
  },
  {
   "cell_type": "code",
   "execution_count": null,
   "id": "65d1afd4",
   "metadata": {},
   "outputs": [],
   "source": [
    "# Save the updated dataframe\n",
    "merged_df.to_csv(os.path.join(path_to_dir, \"merged_df.csv\"))"
   ]
  },
  {
   "cell_type": "markdown",
   "id": "4c02a7b0",
   "metadata": {},
   "source": [
    "### Group the values to compare changes in base pain levels by drug class"
   ]
  },
  {
   "cell_type": "code",
   "execution_count": null,
   "id": "4bd5cd71",
   "metadata": {},
   "outputs": [],
   "source": [
    "mean_merged_df = merged_df.groupby('class_drugs').mean()\n",
    "mean_merged_df"
   ]
  },
  {
   "cell_type": "code",
   "execution_count": null,
   "id": "381107e8",
   "metadata": {},
   "outputs": [],
   "source": [
    "mean_merged_df.to_csv(os.path.join(path_to_dir, \"means_of_merged_df.csv\"))"
   ]
  },
  {
   "cell_type": "markdown",
   "id": "83840678",
   "metadata": {},
   "source": [
    "#### Create DataFrame for cases where follow up assessments have been made\n",
    "We also need to clean the DataFrame columns where a space has been added when no data exists "
   ]
  },
  {
   "cell_type": "code",
   "execution_count": null,
   "id": "598a979d",
   "metadata": {},
   "outputs": [],
   "source": [
    "follow_up_df = merged_df.loc[merged_df['Change_6M_ODI_all'] != ' ']"
   ]
  },
  {
   "cell_type": "code",
   "execution_count": null,
   "id": "9b93969e",
   "metadata": {},
   "outputs": [],
   "source": [
    "follow_up_df.to_csv(os.path.join(path_to_dir, \"follow_up_df.csv\"))"
   ]
  },
  {
   "cell_type": "code",
   "execution_count": null,
   "id": "a4739cb8",
   "metadata": {},
   "outputs": [],
   "source": [
    "def convert(row):\n",
    "    return int(row['Change_6M_ODI_all'])\n",
    "\n",
    "def convert2(row):\n",
    "    return int(row['fuPQ6_ODI'])\n"
   ]
  },
  {
   "cell_type": "code",
   "execution_count": null,
   "id": "3193874a",
   "metadata": {},
   "outputs": [],
   "source": [
    "follow_up_df = follow_up_df.copy()"
   ]
  },
  {
   "cell_type": "markdown",
   "id": "f65f3c26",
   "metadata": {},
   "source": [
    "Convert strings to ints to facilitate grouping"
   ]
  },
  {
   "cell_type": "code",
   "execution_count": null,
   "id": "9c9c087e",
   "metadata": {},
   "outputs": [],
   "source": [
    "follow_up_df['Change_6M_ODI_all'] = follow_up_df['Change_6M_ODI_all'].map(lambda x: int(x))"
   ]
  },
  {
   "cell_type": "code",
   "execution_count": null,
   "id": "f3a5765a",
   "metadata": {},
   "outputs": [],
   "source": [
    "follow_up_df['fuPQ6_ODI'] = follow_up_df['fuPQ6_ODI'].map(lambda x: int(x))"
   ]
  },
  {
   "cell_type": "code",
   "execution_count": null,
   "id": "621be25f",
   "metadata": {},
   "outputs": [],
   "source": [
    "follow_up_groups_df = follow_up_df.groupby('class_drugs').mean()\n",
    "follow_up_groups_df"
   ]
  },
  {
   "cell_type": "code",
   "execution_count": null,
   "id": "b6bca4db",
   "metadata": {},
   "outputs": [],
   "source": [
    "follow_up_groups_df.to_csv(os.path.join(path_to_dir, \"follow_up_groups_df.csv\"))"
   ]
  },
  {
   "cell_type": "markdown",
   "id": "84893adc",
   "metadata": {},
   "source": [
    "### Generate Aggregate Statistics"
   ]
  },
  {
   "cell_type": "code",
   "execution_count": null,
   "id": "01c36127",
   "metadata": {},
   "outputs": [],
   "source": [
    "np.sum(new_df.values==(drug_names[0]))"
   ]
  },
  {
   "cell_type": "code",
   "execution_count": null,
   "id": "8d191294",
   "metadata": {},
   "outputs": [],
   "source": [
    "count_dict = {}\n",
    "for drug in drug_names:\n",
    "    count_dict[drug] = np.sum(new_df.values == drug)"
   ]
  },
  {
   "cell_type": "code",
   "execution_count": null,
   "id": "d46dbd8a",
   "metadata": {},
   "outputs": [],
   "source": [
    "count_dict"
   ]
  },
  {
   "cell_type": "code",
   "execution_count": null,
   "id": "a6f86947",
   "metadata": {},
   "outputs": [],
   "source": [
    "total_drug_counts = pd.DataFrame.from_dict(count_dict, orient='index', columns=['Count'])\n",
    "total_drug_counts"
   ]
  },
  {
   "cell_type": "code",
   "execution_count": null,
   "id": "13e39a8b",
   "metadata": {},
   "outputs": [],
   "source": [
    "total_drug_counts.to_csv(os.path.join(path_to_dir, 'total_drug_counts.csv'))"
   ]
  },
  {
   "cell_type": "markdown",
   "id": "af3a66a2",
   "metadata": {},
   "source": [
    "### Number of people on multiple pain meds"
   ]
  },
  {
   "cell_type": "code",
   "execution_count": null,
   "id": "29875da6",
   "metadata": {},
   "outputs": [],
   "source": [
    "agg_df = merged_df.reset_index()"
   ]
  },
  {
   "cell_type": "code",
   "execution_count": null,
   "id": "313ac0aa",
   "metadata": {},
   "outputs": [],
   "source": [
    "agg_df"
   ]
  },
  {
   "cell_type": "code",
   "execution_count": null,
   "id": "d94d105d",
   "metadata": {},
   "outputs": [],
   "source": [
    "agg_df.loc[:,['ssid', 'Num_pain_meds']].groupby('Num_pain_meds').count()"
   ]
  },
  {
   "cell_type": "code",
   "execution_count": null,
   "id": "e26526aa",
   "metadata": {},
   "outputs": [],
   "source": [
    "cntr_pain_meds_plus_opioids = ['Gabapentin', 'Tramadol', 'Pregabalin', 'Morphine Sulphate', 'Fentanyl', 'Oxycodone', \n",
    "                          'Buprenorphine', 'Diazepam', 'Tapentadol', 'Co-codamol', 'Co-dydramol', 'Codeine', \n",
    "                          'Dihydrocodiene', 'Co-proxamol']\n",
    "cntr_pain_meds = ['Gabapentin', 'Tramadol', 'Pregabalin', 'Morphine Sulphate', 'Fentanyl', 'Oxycodone', \n",
    "                          'Buprenorphine', 'Diazepam', 'Tapentadol', 'Co-proxamol']"
   ]
  },
  {
   "cell_type": "code",
   "execution_count": null,
   "id": "227911b9",
   "metadata": {},
   "outputs": [],
   "source": [
    "agg_df['totals'] = 1\n",
    "agg_df"
   ]
  },
  {
   "cell_type": "code",
   "execution_count": null,
   "id": "411cf969",
   "metadata": {},
   "outputs": [],
   "source": [
    "\n",
    "agg_df.groupby('Num_pain_meds')['totals'].count()"
   ]
  },
  {
   "cell_type": "markdown",
   "id": "0623475c",
   "metadata": {},
   "source": [
    "Alternative way to acheive the above using numpy bincount"
   ]
  },
  {
   "cell_type": "code",
   "execution_count": null,
   "id": "5027f122",
   "metadata": {},
   "outputs": [],
   "source": [
    "np.bincount(agg_df['Num_pain_meds'])"
   ]
  },
  {
   "cell_type": "code",
   "execution_count": null,
   "id": "2343853f",
   "metadata": {},
   "outputs": [],
   "source": [
    "drug_use_counts = pd.DataFrame(np.bincount(agg_df['Num_pain_meds']), columns=['Total'])\n",
    "drug_use_counts = drug_use_counts.rename_axis('Number_of_drugs')\n",
    "drug_use_counts"
   ]
  },
  {
   "cell_type": "code",
   "execution_count": null,
   "id": "e7e5c55b",
   "metadata": {},
   "outputs": [],
   "source": [
    "# Get all rows with 3 drugs and pain intensity > 1\n",
    "agg_df.query(\"(Num_pain_meds >= 3) & (base_pain_intensity > 1)\")"
   ]
  },
  {
   "cell_type": "markdown",
   "id": "6830b16f",
   "metadata": {},
   "source": [
    "### Explore ways to query the dataframe "
   ]
  },
  {
   "cell_type": "code",
   "execution_count": null,
   "id": "eb75dcf3",
   "metadata": {},
   "outputs": [],
   "source": [
    "# Get all rows with 3 drugs and that use Tremadol\n",
    "agg_df.query(\"(Num_pain_meds >= 3) & (base_medication_name_1 == 'Tramadol')\")"
   ]
  },
  {
   "cell_type": "code",
   "execution_count": null,
   "id": "af23428f",
   "metadata": {},
   "outputs": [],
   "source": [
    "# Get all rows with 3 drugs and that use Tremadol\n",
    "agg_df.query(\"(Num_pain_meds >= 3) & ('Tramadol' in base_medication_name_1)\")"
   ]
  },
  {
   "cell_type": "code",
   "execution_count": null,
   "id": "e57894c7",
   "metadata": {},
   "outputs": [],
   "source": [
    "drug = 'Tramadol'\n",
    "query_string = \"\"\n",
    "for column_name in columns[0:4]:\n",
    "    query_string = query_string + f\"('{drug}' in {column_name}) or \"\n",
    "query_string = query_string[:-4]\n",
    "query_string"
   ]
  },
  {
   "cell_type": "code",
   "execution_count": null,
   "id": "e976cf4e",
   "metadata": {},
   "outputs": [],
   "source": [
    "full_string = \"(Num_pain_meds >= 3) & (\" + query_string + \")\"\n",
    "full_string"
   ]
  },
  {
   "cell_type": "code",
   "execution_count": null,
   "id": "5ce3eaaa",
   "metadata": {},
   "outputs": [],
   "source": [
    "agg_df.query(full_string)"
   ]
  },
  {
   "cell_type": "code",
   "execution_count": null,
   "id": "0ef58445",
   "metadata": {},
   "outputs": [],
   "source": [
    "# Use numpy == to generate a binary array and then any to find user columns\n",
    "drug_cols = agg_df[columns].values\n",
    "takes_drug = np.any(drug == drug_cols, axis=1)\n",
    "takes_drug, len(takes_drug), drug_cols.shape"
   ]
  },
  {
   "cell_type": "code",
   "execution_count": null,
   "id": "1fbdf66c",
   "metadata": {},
   "outputs": [],
   "source": [
    "# use the same approach to filter the rows of the dataframe directly\n",
    "agg_df[np.any(agg_df[columns].values == drug, axis=1)]"
   ]
  },
  {
   "cell_type": "code",
   "execution_count": null,
   "id": "4ffa75df",
   "metadata": {},
   "outputs": [],
   "source": [
    "columns[0]"
   ]
  },
  {
   "cell_type": "code",
   "execution_count": null,
   "id": "0f62f281",
   "metadata": {},
   "outputs": [],
   "source": [
    "new_df2 = new_df.copy()\n",
    "new_df2 = new_df2.reset_index()\n",
    "new_df2.head(10)"
   ]
  },
  {
   "cell_type": "code",
   "execution_count": null,
   "id": "f4c3617b",
   "metadata": {},
   "outputs": [],
   "source": [
    "row_set = new_df2.iloc[0].values\n",
    "row_set"
   ]
  },
  {
   "cell_type": "code",
   "execution_count": null,
   "id": "a3613838",
   "metadata": {},
   "outputs": [],
   "source": [
    "base_names"
   ]
  },
  {
   "cell_type": "code",
   "execution_count": null,
   "id": "444a84ef",
   "metadata": {},
   "outputs": [],
   "source": [
    "count = 0\n",
    "for col in row_set:\n",
    "    if col in base_names:\n",
    "        count +=1\n",
    "    print(count)"
   ]
  },
  {
   "cell_type": "code",
   "execution_count": null,
   "id": "f1c8d8df",
   "metadata": {},
   "outputs": [],
   "source": [
    "np.sum(row_set == base_names[1])"
   ]
  },
  {
   "cell_type": "code",
   "execution_count": null,
   "id": "55e489bf",
   "metadata": {},
   "outputs": [],
   "source": [
    "for name in base_name:\n",
    "    "
   ]
  },
  {
   "cell_type": "code",
   "execution_count": null,
   "id": "929d534c",
   "metadata": {},
   "outputs": [],
   "source": [
    "def count_pain_meds(row):\n",
    "    count=0\n",
    "    for col in row:\n",
    "        if col in base_names:\n",
    "            count +=1\n",
    "    return count"
   ]
  },
  {
   "cell_type": "code",
   "execution_count": null,
   "id": "a48192b2",
   "metadata": {},
   "outputs": [],
   "source": [
    "new_df2['Num_pain_meds'] = new_df2.apply(lambda x: count_pain_meds(x), axis=1)"
   ]
  },
  {
   "cell_type": "code",
   "execution_count": null,
   "id": "4b8972fc",
   "metadata": {},
   "outputs": [],
   "source": [
    "new_df2.head(10)"
   ]
  },
  {
   "cell_type": "code",
   "execution_count": null,
   "id": "5640fe88",
   "metadata": {},
   "outputs": [],
   "source": [
    "new_df2.to_csv(os.path.join(path_to_dir, \"number_of_pain_meds.csv\"))"
   ]
  },
  {
   "cell_type": "code",
   "execution_count": null,
   "id": "c925c708",
   "metadata": {},
   "outputs": [],
   "source": [
    "new_df2.groupby(\"Num_pain_meds\",axis=0).sum()"
   ]
  },
  {
   "cell_type": "markdown",
   "id": "24aeacf3",
   "metadata": {},
   "source": [
    "### Controlled drugs"
   ]
  },
  {
   "cell_type": "code",
   "execution_count": null,
   "id": "f9dde10a",
   "metadata": {},
   "outputs": [],
   "source": [
    "controlled_drugs = [\n",
    " 'Buprenorphine',\n",
    " 'Diazepam',\n",
    " 'Fentanyl',\n",
    " 'Gabapentin',\n",
    " 'Morphine Sulphate',\n",
    " 'Oxycodone',\n",
    " 'Pregabalin',\n",
    " 'Tapentadol',\n",
    " 'Tramadol']"
   ]
  },
  {
   "cell_type": "code",
   "execution_count": null,
   "id": "7bb45c74",
   "metadata": {},
   "outputs": [],
   "source": [
    "def count_controlled_meds(row):\n",
    "    count=0\n",
    "    for col in row:\n",
    "        if col in controlled_drugs:\n",
    "            count +=1\n",
    "    return count"
   ]
  },
  {
   "cell_type": "code",
   "execution_count": null,
   "id": "21755f7a",
   "metadata": {},
   "outputs": [],
   "source": [
    "new_df2['Num_controlled_meds'] = new_df2.apply(lambda x: count_controlled_meds(x), axis=1)"
   ]
  },
  {
   "cell_type": "code",
   "execution_count": null,
   "id": "3f9e133a",
   "metadata": {},
   "outputs": [],
   "source": [
    "new_df2.head(20)"
   ]
  },
  {
   "cell_type": "code",
   "execution_count": null,
   "id": "75f74414",
   "metadata": {},
   "outputs": [],
   "source": [
    "new_df2.to_csv(os.path.join(path_to_dir, \"number_of_pain_meds.csv\"))"
   ]
  },
  {
   "cell_type": "code",
   "execution_count": null,
   "id": "df779ca4",
   "metadata": {},
   "outputs": [],
   "source": []
  },
  {
   "cell_type": "code",
   "execution_count": null,
   "id": "f6149c77",
   "metadata": {},
   "outputs": [],
   "source": []
  },
  {
   "cell_type": "code",
   "execution_count": null,
   "id": "573b85bb",
   "metadata": {},
   "outputs": [],
   "source": [
    "new_df2.iloc[3]"
   ]
  },
  {
   "cell_type": "code",
   "execution_count": null,
   "id": "392d1554",
   "metadata": {},
   "outputs": [],
   "source": [
    "new_df"
   ]
  },
  {
   "cell_type": "code",
   "execution_count": null,
   "id": "53661f1f-d100-42b1-877f-7ba1e7e6360d",
   "metadata": {},
   "outputs": [],
   "source": [
    "final"
   ]
  },
  {
   "cell_type": "raw",
   "id": "89fd25f9",
   "metadata": {},
   "source": [
    "row"
   ]
  },
  {
   "cell_type": "code",
   "execution_count": null,
   "id": "3f392634",
   "metadata": {},
   "outputs": [],
   "source": [
    "base_names[0], final_dict[base_names[0]]"
   ]
  },
  {
   "cell_type": "code",
   "execution_count": null,
   "id": "f58ed455",
   "metadata": {},
   "outputs": [],
   "source": [
    "np.nonzero(initial_df.values == 'Panadol')"
   ]
  },
  {
   "cell_type": "code",
   "execution_count": null,
   "id": "77af6856",
   "metadata": {},
   "outputs": [],
   "source": [
    "initial_df.iloc[9, 12:29]"
   ]
  },
  {
   "cell_type": "code",
   "execution_count": null,
   "id": "da97ab5b",
   "metadata": {},
   "outputs": [],
   "source": [
    "new_df = new_df.replace(final_dict[base_names[0]], base_names[0])"
   ]
  },
  {
   "cell_type": "code",
   "execution_count": null,
   "id": "b789c5e1",
   "metadata": {},
   "outputs": [],
   "source": [
    "new_df.iloc[9]"
   ]
  },
  {
   "cell_type": "markdown",
   "id": "9137132e",
   "metadata": {},
   "source": [
    "### Re-process agg_df with same methodology as new data"
   ]
  },
  {
   "cell_type": "code",
   "execution_count": null,
   "id": "696cd162",
   "metadata": {},
   "outputs": [],
   "source": [
    "agg_df = agg_df.iloc[:, 0:-4]\n",
    "agg_df"
   ]
  },
  {
   "cell_type": "code",
   "execution_count": null,
   "id": "f560c55e",
   "metadata": {},
   "outputs": [],
   "source": [
    "cntr_pain_meds_plus_opioids = ['Gabapentin', 'Tramadol', 'Pregabalin', 'Morphine Sulphate', 'Fentanyl', 'Oxycodone', \n",
    "                          'Buprenorphine', 'Diazepam', 'Tapentadol', 'Co-codamol', 'Co-dydramol', 'Codeine', \n",
    "                          'Dihydrocodiene', 'Co-proxamol']\n",
    "cntr_pain_meds = ['Gabapentin', 'Tramadol', 'Pregabalin', 'Morphine Sulphate', 'Fentanyl', 'Oxycodone', \n",
    "                          'Buprenorphine', 'Diazepam', 'Tapentadol', 'Co-proxamol']\n",
    "all_pain_meds = list(final_dict.keys())"
   ]
  },
  {
   "cell_type": "code",
   "execution_count": null,
   "id": "86a5b9b7",
   "metadata": {},
   "outputs": [],
   "source": [
    "def count_pain_meds(row: pd.Series, drug_set: list) -> int:\n",
    "    \"\"\" count the number of entries the patient is taking that are in the drug set given\n",
    "    \n",
    "    args:\n",
    "        row (pd.Series): series representing a row of a DataFrame\n",
    "        drug_set (list): list of the drugs to be included in the count\n",
    "        \n",
    "    return:\n",
    "        count (int): Number of drugs in the set being taken by the patient\n",
    "    \"\"\"\n",
    "    count=0\n",
    "    for col in row:\n",
    "        if col in drug_set:\n",
    "            count +=1\n",
    "    return count\n",
    "\n",
    "\n",
    "def get_class_of_drug(row: pd.Series, col_to_test) -> int:\n",
    "    \"\"\" returns a value to represent the class of the strongest pain drug being taken by a patient\n",
    "    \n",
    "    args:\n",
    "        row (pd.Series): series representing a row of a DataFrame\n",
    "        \n",
    "    returns:\n",
    "        int: 0 if no pain meds, 1 if no controlled drugs, 2 if the patient in using controlled drugs\n",
    "    \"\"\"\n",
    "    contr_drugs = row[col_to_test]\n",
    "    non_cont_drugs = row['All_pain_meds']\n",
    "    if non_cont_drugs == 0 & contr_drugs==0:\n",
    "        return 0\n",
    "    if contr_drugs > 0:\n",
    "        return 2\n",
    "    else:\n",
    "        return 1"
   ]
  },
  {
   "cell_type": "code",
   "execution_count": null,
   "id": "aed85d2d",
   "metadata": {},
   "outputs": [],
   "source": [
    "summary_dict = {\n",
    "    'All_pain_meds': all_pain_meds,\n",
    "    'Num_cont_meds': cntr_pain_meds,\n",
    "    'Num_cont_op_meds': cntr_pain_meds_plus_opioids\n",
    "}"
   ]
  },
  {
   "cell_type": "code",
   "execution_count": null,
   "id": "3eaa93ed",
   "metadata": {},
   "outputs": [],
   "source": [
    "def add_summary_to_df(df, summary_dict):\n",
    "    for key, value in summary_dict.items():\n",
    "        df[key] = df.apply(lambda x: count_pain_meds(x, value), axis=1)\n",
    "    return df"
   ]
  },
  {
   "cell_type": "code",
   "execution_count": null,
   "id": "38328c86",
   "metadata": {},
   "outputs": [],
   "source": [
    "agg_df = add_summary_to_df(agg_df, summary_dict)"
   ]
  },
  {
   "cell_type": "code",
   "execution_count": null,
   "id": "3f5782af",
   "metadata": {},
   "outputs": [],
   "source": [
    "agg_df.head()"
   ]
  },
  {
   "cell_type": "code",
   "execution_count": null,
   "id": "380bbe07",
   "metadata": {},
   "outputs": [],
   "source": [
    "from functools import partial"
   ]
  },
  {
   "cell_type": "code",
   "execution_count": null,
   "id": "dd80f028",
   "metadata": {},
   "outputs": [],
   "source": [
    "assign_class_controlled = partial(get_class_of_drug, col_to_test=\"Num_cont_meds\")\n",
    "assign_class_opioids = partial(get_class_of_drug, col_to_test=\"Num_cont_op_meds\")"
   ]
  },
  {
   "cell_type": "code",
   "execution_count": null,
   "id": "84966868",
   "metadata": {},
   "outputs": [],
   "source": [
    "agg_df['drug_class'] = agg_df.apply(lambda x: assign_class_controlled(x), axis=1)\n",
    "agg_df['drug_class_op'] = agg_df.apply(lambda x: assign_class_opioids(x), axis=1)"
   ]
  },
  {
   "cell_type": "code",
   "execution_count": null,
   "id": "b1dc2dca",
   "metadata": {},
   "outputs": [],
   "source": [
    "agg_df.head(20)"
   ]
  },
  {
   "cell_type": "code",
   "execution_count": null,
   "id": "5573182e",
   "metadata": {},
   "outputs": [],
   "source": [
    "agg_df.to_csv('updated_aggregate_data.csv')"
   ]
  },
  {
   "cell_type": "code",
   "execution_count": null,
   "id": "0466f0e7",
   "metadata": {},
   "outputs": [],
   "source": [
    "drug_names = list(final_dict.keys())\n",
    "drug_names"
   ]
  },
  {
   "cell_type": "code",
   "execution_count": null,
   "id": "d2148b81",
   "metadata": {},
   "outputs": [],
   "source": [
    "count_dict = {}\n",
    "for drug in drug_names:\n",
    "    count_dict[drug] = np.sum(agg_df.values == drug)"
   ]
  },
  {
   "cell_type": "code",
   "execution_count": null,
   "id": "d35e4594",
   "metadata": {},
   "outputs": [],
   "source": [
    "count_df = pd.DataFrame.from_dict(data=count_dict, orient='index', columns=['count'])\n",
    "count_df"
   ]
  },
  {
   "cell_type": "code",
   "execution_count": null,
   "id": "f3bce8fe",
   "metadata": {},
   "outputs": [],
   "source": [
    "count_df = count_df.sort_values('count', ascending=False)"
   ]
  },
  {
   "cell_type": "code",
   "execution_count": null,
   "id": "4ba552c9",
   "metadata": {},
   "outputs": [],
   "source": [
    "count_df"
   ]
  },
  {
   "cell_type": "code",
   "execution_count": null,
   "id": "1fb65800",
   "metadata": {},
   "outputs": [],
   "source": [
    "count_df.to_csv(\"counts_from_original.csv\")"
   ]
  },
  {
   "cell_type": "code",
   "execution_count": null,
   "id": "192daf95",
   "metadata": {},
   "outputs": [],
   "source": []
  }
 ],
 "metadata": {
  "kernelspec": {
   "display_name": "Python 3 (ipykernel)",
   "language": "python",
   "name": "python3"
  },
  "language_info": {
   "codemirror_mode": {
    "name": "ipython",
    "version": 3
   },
   "file_extension": ".py",
   "mimetype": "text/x-python",
   "name": "python",
   "nbconvert_exporter": "python",
   "pygments_lexer": "ipython3",
   "version": "3.11.4"
  }
 },
 "nbformat": 4,
 "nbformat_minor": 5
}
