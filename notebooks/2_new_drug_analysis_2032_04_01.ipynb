{
 "cells": [
  {
   "cell_type": "markdown",
   "id": "852d8208",
   "metadata": {},
   "source": [
    "### Notebook to explore additional pain medication details \n",
    "\n",
    "This notebook builds upon notebook 1 by adding in additional drugs and data.  The dictionary developed in notebook 1 is then expanded to include the new drugs.  The data is then processed to generate tables\n",
    "related to patient that have 6 month and 12 month follow ups.\n",
    "\n",
    "After this the new dictionary is used to process further data in notebook 3"
   ]
  },
  {
   "cell_type": "code",
   "execution_count": null,
   "id": "7e6395eb",
   "metadata": {},
   "outputs": [],
   "source": [
    "import os\n",
    "import numpy as np\n",
    "import pandas as pd\n",
    "import pickle\n",
    "from fuzzywuzzy import fuzz\n",
    "from fuzzywuzzy import process\n",
    "from pathlib import Path"
   ]
  },
  {
   "cell_type": "code",
   "execution_count": null,
   "id": "50ccd415-13f3-45b8-a695-ec48ba4403f1",
   "metadata": {},
   "outputs": [],
   "source": [
    "import warnings\n",
    "warnings.filterwarnings('ignore')"
   ]
  },
  {
   "cell_type": "code",
   "execution_count": null,
   "id": "bbb4ad4b-858c-4677-9551-afddd3fb452d",
   "metadata": {},
   "outputs": [],
   "source": [
    "path_to_data = Path(os.getcwd()).parent / \"data\""
   ]
  },
  {
   "cell_type": "markdown",
   "id": "d1b75eb7",
   "metadata": {},
   "source": [
    "### Read in the new medication table "
   ]
  },
  {
   "cell_type": "code",
   "execution_count": null,
   "id": "f7ab46dd-1aba-43ce-9af7-3d58a5f4b350",
   "metadata": {},
   "outputs": [],
   "source": [
    "new_meds_file_name = \"Medication 21.03.2023.csv\""
   ]
  },
  {
   "cell_type": "code",
   "execution_count": null,
   "id": "d5df5d0b",
   "metadata": {},
   "outputs": [],
   "source": [
    "raw_df = pd.read_csv(path_to_data / Path(new_meds_file_name))"
   ]
  },
  {
   "cell_type": "code",
   "execution_count": null,
   "id": "883587ec",
   "metadata": {},
   "outputs": [],
   "source": [
    "raw_df.head()"
   ]
  },
  {
   "cell_type": "code",
   "execution_count": null,
   "id": "4d9830e4",
   "metadata": {},
   "outputs": [],
   "source": [
    "# Check which columns are in the dataframe\n",
    "raw_df.columns"
   ]
  },
  {
   "cell_type": "code",
   "execution_count": null,
   "id": "62029168",
   "metadata": {},
   "outputs": [],
   "source": [
    "raw_df.loc[raw_df['ssid']=='BO-08-113']"
   ]
  },
  {
   "cell_type": "markdown",
   "id": "6ab7f4af",
   "metadata": {},
   "source": [
    "All medicines seem to be in the \"medication_name_strength\" column.  To check all of these are in the dictionary from the earlier notebook, that dictionary will be loaded, and all of the uniques entries in this column will be checked to see whether it is present in the dictionary"
   ]
  },
  {
   "cell_type": "code",
   "execution_count": null,
   "id": "8a769af1-abb1-4ef5-81f1-b90224aabe3d",
   "metadata": {},
   "outputs": [],
   "source": [
    "raw_df['medication_name_strength'] = raw_df['medication_name_strength'].apply(lambda x: str(x))"
   ]
  },
  {
   "cell_type": "code",
   "execution_count": null,
   "id": "d180603b",
   "metadata": {},
   "outputs": [],
   "source": [
    "drugs_list = raw_df['medication_name_strength'].to_list()\n",
    "unique_names = list(set(drugs_list))\n",
    "unique_names.sort()\n",
    "unique_names[:10]"
   ]
  },
  {
   "cell_type": "markdown",
   "id": "582371fc",
   "metadata": {},
   "source": [
    "This is a very different list to teh original list of medications.  To produce a new, consilidated drug dictionary it was decided to start with the dictionary from the earlier notebook.  The earlier dictionary was loaded into final_dict"
   ]
  },
  {
   "cell_type": "code",
   "execution_count": null,
   "id": "dcdf10c2",
   "metadata": {},
   "outputs": [],
   "source": [
    "drug_dict_file = \"drug_dict.pkl\"\n",
    "drug_dict_path = path_to_data / Path(drug_dict_file)\n",
    "with open(drug_dict_path, 'rb') as dict_file:\n",
    "    final_dict = pickle.load(dict_file)"
   ]
  },
  {
   "cell_type": "code",
   "execution_count": null,
   "id": "8a324dd7-f5b2-4f32-9cc0-5d96f149a93f",
   "metadata": {},
   "outputs": [],
   "source": [
    "list(final_dict.keys())"
   ]
  },
  {
   "cell_type": "markdown",
   "id": "cd416793",
   "metadata": {},
   "source": [
    "To see which drugs in the new list were not in the old, a list was generated"
   ]
  },
  {
   "cell_type": "code",
   "execution_count": null,
   "id": "13ec5926",
   "metadata": {
    "scrolled": true
   },
   "outputs": [],
   "source": [
    "for drug in unique_names:\n",
    "    if drug not in final_dict.keys():\n",
    "        print(drug)"
   ]
  },
  {
   "cell_type": "markdown",
   "id": "6baa91a3",
   "metadata": {},
   "source": [
    "Next fuzzy matching was used to see which of the unmatched drugs might be associated with the keys from the final dictionary"
   ]
  },
  {
   "cell_type": "code",
   "execution_count": null,
   "id": "4b951a74",
   "metadata": {},
   "outputs": [],
   "source": [
    "def get_matches(drug_names, unique_names, pr_threshold, tr_threshold):\n",
    "    \"\"\" The fuzzy matching algorithm is used to identify which of the unique names is close to a drug name, where close \n",
    "    is defined by the threshold.  If the threshold is set too high then potential matches can be missed, if too low \n",
    "    then the same name can become assiciated with multiple drugs.\n",
    "    \"\"\"\n",
    "    unique_names_arr = np.asarray(list(unique_names))\n",
    "    pr_drugs_dict = {}\n",
    "    tr_drugs_dict = {}\n",
    "    for drug in drug_names:\n",
    "        partial_ratios = []\n",
    "        token_ratios = []\n",
    "        for name in unique_names:\n",
    "            partial_ratio = fuzz.partial_ratio(drug.lower(), name)\n",
    "            partial_ratios.append(partial_ratio)\n",
    "            token_ratio = fuzz.token_sort_ratio(drug, name)\n",
    "            token_ratios.append(token_ratio)\n",
    "        pr_arr = np.asarray(partial_ratios)\n",
    "        tr_arr = np.asarray(token_ratios)\n",
    "        pr_matches = unique_names_arr[np.nonzero(pr_arr>pr_threshold)]\n",
    "        tr_matches = unique_names_arr[np.nonzero(tr_arr>tr_threshold)]\n",
    "        pr_drugs_dict[drug] = pr_matches.tolist()\n",
    "        tr_drugs_dict[drug] = tr_matches.tolist()\n",
    "    return pr_drugs_dict, tr_drugs_dict"
   ]
  },
  {
   "cell_type": "markdown",
   "id": "e989b01e",
   "metadata": {},
   "source": [
    "See what drugs can be matches against the main drugs list"
   ]
  },
  {
   "cell_type": "code",
   "execution_count": null,
   "id": "f85f73c2",
   "metadata": {},
   "outputs": [],
   "source": [
    "drug_names = list(final_dict.keys())[1:]\n",
    "pr_drugs_dict, tr_drugs_dict = get_matches(drug_names, unique_names, pr_threshold=75, tr_threshold=75)"
   ]
  },
  {
   "cell_type": "code",
   "execution_count": null,
   "id": "79f5373e",
   "metadata": {},
   "outputs": [],
   "source": [
    "pr_drugs_dict"
   ]
  },
  {
   "cell_type": "code",
   "execution_count": null,
   "id": "116863a9",
   "metadata": {},
   "outputs": [],
   "source": [
    "final_dict"
   ]
  },
  {
   "cell_type": "code",
   "execution_count": null,
   "id": "a4a7e9be",
   "metadata": {},
   "outputs": [],
   "source": [
    "pr_drugs_dict['Aspirin']"
   ]
  },
  {
   "cell_type": "raw",
   "id": "a27c1655",
   "metadata": {},
   "source": [
    "There are additional descriptors that need to be added to the relevant dictionary items, but also some that are in the wrong place, hence the list needs validating."
   ]
  },
  {
   "cell_type": "markdown",
   "id": "faa79d69",
   "metadata": {},
   "source": [
    "Check how many of the items in the matches dict keys match the values in the existing dictionary.  If they are already there they can be remove and don't need to be worried about"
   ]
  },
  {
   "cell_type": "code",
   "execution_count": null,
   "id": "3f296795",
   "metadata": {},
   "outputs": [],
   "source": [
    "# Generate a list containing all of the names contained in the final_dict value items\n",
    "assigned_names = []\n",
    "for key in final_dict.keys():\n",
    "    for value in final_dict[key]:\n",
    "        assigned_names.append(value)"
   ]
  },
  {
   "cell_type": "code",
   "execution_count": null,
   "id": "2aeee37f",
   "metadata": {},
   "outputs": [],
   "source": [
    "# Now check which of the drugs in unique names already exists in the final_dict values\n",
    "for drug in unique_names:\n",
    "    if drug in assigned_names:\n",
    "        print(f'{drug} found')"
   ]
  },
  {
   "cell_type": "markdown",
   "id": "e34598c1",
   "metadata": {},
   "source": [
    "The drugs that are already in assigned names can be removed from the unique names list so that it is more obvious which ones remain"
   ]
  },
  {
   "cell_type": "code",
   "execution_count": null,
   "id": "71d24c53",
   "metadata": {},
   "outputs": [],
   "source": [
    "len(unique_names)"
   ]
  },
  {
   "cell_type": "code",
   "execution_count": null,
   "id": "78985939",
   "metadata": {},
   "outputs": [],
   "source": [
    "for drug in unique_names:\n",
    "    if drug in assigned_names:\n",
    "        unique_names.remove(drug)\n",
    "        print(f'{drug} found and processed')"
   ]
  },
  {
   "cell_type": "code",
   "execution_count": null,
   "id": "dd12386b",
   "metadata": {},
   "outputs": [],
   "source": [
    "# See how many are left after removing the above\n",
    "len(unique_names)"
   ]
  },
  {
   "cell_type": "code",
   "execution_count": null,
   "id": "4524365f",
   "metadata": {
    "scrolled": true
   },
   "outputs": [],
   "source": [
    "unique_names"
   ]
  },
  {
   "cell_type": "code",
   "execution_count": null,
   "id": "fee0ae41",
   "metadata": {
    "scrolled": true
   },
   "outputs": [],
   "source": [
    "assigned_names"
   ]
  },
  {
   "cell_type": "markdown",
   "id": "ab2e97c8",
   "metadata": {},
   "source": [
    "### Load in pain meds drug summary\n",
    "Since there were a lot of new meds in the list it was necessary to know which were pain meds.  Helen created a table of the new pain meds, their correct spelling, which group they belonges to etc"
   ]
  },
  {
   "cell_type": "code",
   "execution_count": null,
   "id": "9a7841c3",
   "metadata": {},
   "outputs": [],
   "source": [
    "path_to_new_pain_meds = path_to_data / Path(\"new_pain_meds.csv\")\n",
    "new_meds_df = pd.read_csv(path_to_new_pain_meds)"
   ]
  },
  {
   "cell_type": "code",
   "execution_count": null,
   "id": "604a7f37",
   "metadata": {},
   "outputs": [],
   "source": [
    "new_meds_df.head()"
   ]
  },
  {
   "cell_type": "markdown",
   "id": "85c0d102",
   "metadata": {},
   "source": [
    "There were a few typo's and additional characters in this table that needed to be corrected"
   ]
  },
  {
   "cell_type": "code",
   "execution_count": null,
   "id": "1f985dbb",
   "metadata": {},
   "outputs": [],
   "source": [
    "new_meds_df = new_meds_df.replace(\"Morphine sulphate\", \"Morphine Sulphate\")\n",
    "new_meds_df = new_meds_df.replace(\"Fentanyl \", \"Fentanyl\")\n",
    "new_meds_df = new_meds_df.replace(\"Tramadol\\xa0\", \"Tramadol\")"
   ]
  },
  {
   "cell_type": "code",
   "execution_count": null,
   "id": "2567fe89",
   "metadata": {},
   "outputs": [],
   "source": [
    "new_meds_df"
   ]
  },
  {
   "cell_type": "markdown",
   "id": "1af82f07",
   "metadata": {},
   "source": [
    "Create a new dictionary from the above of the same form as the original dictionary"
   ]
  },
  {
   "cell_type": "code",
   "execution_count": null,
   "id": "fe3233de",
   "metadata": {},
   "outputs": [],
   "source": [
    "new_meds_dict = {}\n",
    "for idx, row in new_meds_df.iterrows():\n",
    "    group = row['Group']\n",
    "    variant = row[\"New pain drugs\"]\n",
    "    if group not in new_meds_dict:\n",
    "        new_meds_dict[group] = []\n",
    "    if variant not in new_meds_dict[group]:\n",
    "        new_meds_dict[group].append(variant)"
   ]
  },
  {
   "cell_type": "code",
   "execution_count": null,
   "id": "9fd2b2f4",
   "metadata": {},
   "outputs": [],
   "source": [
    "new_meds_dict"
   ]
  },
  {
   "cell_type": "raw",
   "id": "dc80c361",
   "metadata": {},
   "source": [
    "These new drugs will next be added to the createa  new dict"
   ]
  },
  {
   "cell_type": "markdown",
   "id": "c22802cd",
   "metadata": {},
   "source": [
    "### Create new drug dictionary"
   ]
  },
  {
   "cell_type": "markdown",
   "id": "bc363f5f",
   "metadata": {},
   "source": [
    "Merge the two dictionaries to create a new final dictionary which is applicable to everything"
   ]
  },
  {
   "cell_type": "code",
   "execution_count": null,
   "id": "32c10738",
   "metadata": {},
   "outputs": [],
   "source": [
    "import copy\n",
    "new_final_dict = copy.deepcopy(final_dict)"
   ]
  },
  {
   "cell_type": "code",
   "execution_count": null,
   "id": "172b6dd5",
   "metadata": {},
   "outputs": [],
   "source": [
    "for key in new_meds_dict.keys():\n",
    "    if key not in new_final_dict.keys():\n",
    "        new_final_dict[key] = []\n",
    "    for value in new_meds_dict[key]:\n",
    "        if value not in new_final_dict[key]:\n",
    "            new_final_dict[key].append(value)"
   ]
  },
  {
   "cell_type": "code",
   "execution_count": null,
   "id": "01c609a4",
   "metadata": {},
   "outputs": [],
   "source": [
    "new_final_dict"
   ]
  },
  {
   "cell_type": "markdown",
   "id": "40b9223b",
   "metadata": {},
   "source": [
    "### Update the dict with some additional pain meds found after the above. \n",
    "There are some cases that need to be added (mainly ones that are not similar or mis-spelt, but different names).  These will be done on an individual basis"
   ]
  },
  {
   "cell_type": "code",
   "execution_count": null,
   "id": "7dd9e1fd",
   "metadata": {},
   "outputs": [],
   "source": [
    "# Add new values discoverd subsequently\n",
    "new_final_dict[\"Co-codamol\"].append(\"Zapain\")\n",
    "new_final_dict[\"Co-codamol\"].append(\"Zapai\")\n",
    "new_final_dict[\"Ibuprofen\"].append(\"Ibugel\")\n",
    "new_final_dict[\"Duloxetine\"].append(\"Duloxatin\")\n",
    "new_final_dict[\"Morphine Sulphate\"].append(\"Zoomorph\")\n",
    "new_final_dict[\"Morphine Sulphate\"].append(\"Aramorph\")\n",
    "new_final_dict[\"Dihydrocodiene\"].append(\"Diharocodeine\")\n",
    "new_final_dict[\"Dihydrocodiene\"].append(\"Dihydeocodeine\")\n",
    "new_final_dict[\"Aspirin\"].append(\"Dispersable Asprin\")\n",
    "new_final_dict[\"Aspirin\"].append(\"Dispersible Asprin\")\n",
    "new_final_dict[\"Aspirin\"].append(\"Asprin 75mg\")\n",
    "new_final_dict[\"Co-dydramol\"].append(\"Co-dyamol\")\n",
    "new_final_dict[\"Co-dydramol\"].append(\"Co Dydramol\")\n",
    "new_final_dict[\"Buprenorphine\"].append(\"Transdermal patch buprephine\")\n",
    "new_final_dict[\"Buprenorphine\"].append(\"Butec patches\")\n",
    "new_final_dict[\"Co-proxamol\"] = [\"Co-proxamol\", \"Coproxanol\"]\n",
    "new_final_dict[\"Oxycodone\"].append(\"Longtec\")\n",
    "new_final_dict[\"Oxycodone\"].append(\"Oxycontin\")\n",
    "new_final_dict[\"Diclofenac Sodium\"].append(\"Athrotec\")\n",
    "new_final_dict[\"Diclofenac Sodium\"].append(\"Voltarol\")\n",
    "new_final_dict[\"Diclofenac Sodium\"].append(\"Voltarol cream\")\n",
    "new_final_dict[\"Diclofenac Sodium\"].append(\"Voltral\")\n",
    "new_final_dict[\"Diclofenac Sodium\"].append(\"Arthrotec 50\")\n",
    "new_final_dict[\"Tapentadol\"].append(\"Tapentodol\")\n",
    "new_final_dict[\"Tramadol\"].append(\"Marol\")\n",
    "new_final_dict[\"Tramadol\"].append(\"Malol\")\n",
    "new_final_dict[\"Tramadol\"].append(\"Morol\")\n",
    "new_final_dict[\"Tramadol\"].append(\"Tradorec\")\n",
    "new_final_dict[\"Diazepam\"].append(\"Diazepan\")\n",
    "new_final_dict[\"Naproxen\"].append(\"Naproxin\")\n",
    "new_final_dict[\"Capsaicin\"].append(\"Axsain Cream\")\n",
    "new_final_dict[\"Pregabalin\"].append(\"Lirica\")"
   ]
  },
  {
   "cell_type": "code",
   "execution_count": null,
   "id": "5993e9ee-2866-498c-acff-15acd2e1f3d5",
   "metadata": {},
   "outputs": [],
   "source": [
    "new_final_dict"
   ]
  },
  {
   "cell_type": "code",
   "execution_count": null,
   "id": "62f90e70",
   "metadata": {},
   "outputs": [],
   "source": [
    "# Save the new dictionary\n",
    "path_to_new_dict = path_to_data / Path(\"new_final_dict.pkl\")\n",
    "with open(path_to_new_dict, 'wb') as nfd:\n",
    "    pickle.dump(new_final_dict, nfd)"
   ]
  },
  {
   "cell_type": "markdown",
   "id": "6484ac57",
   "metadata": {},
   "source": [
    "### Apply the new dictionary to correct the spelling and names of the pain meds dataframe"
   ]
  },
  {
   "cell_type": "code",
   "execution_count": null,
   "id": "9ec6ceac",
   "metadata": {},
   "outputs": [],
   "source": [
    "# Iterate around replacing any mis-spelt values\n",
    "for key in new_final_dict.keys():\n",
    "    for value in new_final_dict[key]:\n",
    "        raw_df = raw_df.replace(value, key)"
   ]
  },
  {
   "cell_type": "code",
   "execution_count": null,
   "id": "bcff4118",
   "metadata": {},
   "outputs": [],
   "source": [
    "raw_df"
   ]
  },
  {
   "cell_type": "code",
   "execution_count": null,
   "id": "f65d0aa1",
   "metadata": {},
   "outputs": [],
   "source": [
    "raw_df.columns"
   ]
  },
  {
   "cell_type": "code",
   "execution_count": null,
   "id": "977aa456",
   "metadata": {},
   "outputs": [],
   "source": [
    "new_columns = ['ssid', 'study_event_oid', 'medication_name_strength', 'medication_dosage_form', 'medication_doseage_frequency',\n",
    "       'how_long_using_medication', 'end_date_using_medication']"
   ]
  },
  {
   "cell_type": "markdown",
   "id": "c6a0caa5-e09b-4d17-82e7-31e6fb37adf2",
   "metadata": {},
   "source": [
    "### Process the dataframe with the corrected drug names \n",
    "It is desirable to look at data based upon follow ups at 6 and 12 month separately.  The follow up data is embedded in teh \"study_event_old\" column and will be separated out"
   ]
  },
  {
   "cell_type": "code",
   "execution_count": null,
   "id": "97866002",
   "metadata": {},
   "outputs": [],
   "source": [
    "processed_df = raw_df[new_columns]"
   ]
  },
  {
   "cell_type": "code",
   "execution_count": null,
   "id": "78d01583-b927-4889-8a20-34c5dd441695",
   "metadata": {
    "scrolled": true
   },
   "outputs": [],
   "source": [
    "list(processed_df[\"study_event_oid\"])"
   ]
  },
  {
   "cell_type": "markdown",
   "id": "fa224ff9-40bd-4a05-ad50-17e0663122a5",
   "metadata": {},
   "source": [
    "To be able to separate the 6 month and 12 month cases a new column will be created defining the follow up period"
   ]
  },
  {
   "cell_type": "code",
   "execution_count": null,
   "id": "d1dcad85-a494-4641-b373-079ff911082b",
   "metadata": {},
   "outputs": [],
   "source": [
    "processed_df['follow_up'] = processed_df.loc[:, 'study_event_oid'].map(lambda x: x.split(' ')[1])"
   ]
  },
  {
   "cell_type": "code",
   "execution_count": null,
   "id": "2064ded6",
   "metadata": {},
   "outputs": [],
   "source": [
    "def concat_ssid_data(df):\n",
    "    \"\"\" create a new dataframe based upon the unique SSID values.  There are likely to be some follow ups for 6 and 12 months\n",
    "    for some cases but not all.  This function will assign all of the base columns from the original columns into the same row\n",
    "    with the six month values in columns before the 12 month values.  In this was all of the data for a specifi SSID will be in the same form\n",
    "    but with the column names mapped from the original to the base names\n",
    "    \"\"\"\n",
    "    original_col_names = ['medication_name_strength', 'medication_dosage_form', \n",
    "                          'medication_doseage_frequency', 'end_date_using_medication', 'follow_up']\n",
    "    base_column_names = ['drug_name', 'dosage', 'frequency', 'used', 'follow_up']\n",
    "    new_df = pd.DataFrame([])\n",
    "    # generate unique list of ssids\n",
    "    ssids = df['ssid'].unique()\n",
    "    ssids.sort()\n",
    "    for i, ssid in enumerate(ssids):\n",
    "        # process 6 months and then 12 months\n",
    "        filtered_df = df[df['ssid']==ssid]\n",
    "        filtered_df = filtered_df[filtered_df['follow_up']=='6']\n",
    "        # At this point we have a subset of the dataframe for entries with the current ssid and for which the follow up was 6 months\n",
    "        # copy the row into the new dataframe at the correct point\n",
    "        new_row_dict = {'ssid': ssid}\n",
    "        counter = 1\n",
    "        for key, row in filtered_df.iterrows():\n",
    "            if pd.isnull(row[original_col_names[0]]):\n",
    "                # if no valid medication name then skip this row\n",
    "                continue\n",
    "            for i, col_name in enumerate(original_col_names):\n",
    "                new_row_dict[base_column_names[i]+'_'+str(counter)] = row[col_name]\n",
    "            counter += 1\n",
    "        # process for 12 month\n",
    "        filtered_df = df[df['ssid']==ssid]\n",
    "        filtered_df = filtered_df[filtered_df['follow_up']=='12']\n",
    "        for key, row in filtered_df.iterrows():\n",
    "            for i, col_name in enumerate(original_col_names):\n",
    "                new_row_dict[base_column_names[i]+'_'+str(counter)] = row[col_name]\n",
    "            counter += 1\n",
    "        # Add new row to dataframe\n",
    "        new_df = new_df.append(new_row_dict, ignore_index=True)\n",
    "        # filter the dataframe to obtain only rows with ssid\n",
    "    return new_df"
   ]
  },
  {
   "cell_type": "raw",
   "id": "0e090e66-fd60-4390-9b9a-1bb16f05f55c",
   "metadata": {},
   "source": [
    "new_meds_list = list(new_final_dict.keys())\n",
    "new_meds_list"
   ]
  },
  {
   "cell_type": "markdown",
   "id": "f85f7713-5571-4d21-9454-2bf9e922aeba",
   "metadata": {},
   "source": [
    "Check how many rows there are in the filtered dataframe that are in the new meds list"
   ]
  },
  {
   "cell_type": "raw",
   "id": "81f87ceb",
   "metadata": {},
   "source": [
    "pain_meds_df = filtered_df[filtered_df['medication_name_strength'].isin(new_meds_list)]\n",
    "pain_meds_df"
   ]
  },
  {
   "cell_type": "raw",
   "id": "c0ccc248-d693-494e-87d6-08a8c588c3d9",
   "metadata": {},
   "source": [
    "len(processed_df)"
   ]
  },
  {
   "cell_type": "raw",
   "id": "4eb5b191-1903-4551-b718-4c99a341601a",
   "metadata": {},
   "source": [
    "processed_df.head(10)"
   ]
  },
  {
   "cell_type": "markdown",
   "id": "0187e54d-7e8e-404e-ab09-e56561fbceb6",
   "metadata": {},
   "source": [
    "Create the new SSID based dataframe using the above function"
   ]
  },
  {
   "cell_type": "raw",
   "id": "80fb837a-b562-4b25-8ec6-81f6af68d1b3",
   "metadata": {},
   "source": [
    "interim_df = copy.deepcopy(processed_df)\n",
    "test_df = concat_ssid_data(interim_df)\n",
    "test_df"
   ]
  },
  {
   "cell_type": "markdown",
   "id": "f79eca32-1c1f-462b-a40c-8eae94ace8c0",
   "metadata": {},
   "source": [
    "The above table was not used, instead it was decided to create a different dataframe for each perios"
   ]
  },
  {
   "cell_type": "code",
   "execution_count": null,
   "id": "3a1ad32c",
   "metadata": {},
   "outputs": [],
   "source": [
    "def create_new_table(df, follow_up_target):\n",
    "    \"\"\" similar to the above table but in this case produces a separate table for the 6 month follow up and 12 month follow\n",
    "    up cases\n",
    "    \"\"\"\n",
    "    original_col_names = ['medication_name_strength', 'medication_dosage_form', \n",
    "                          'medication_doseage_frequency', 'end_date_using_medication', 'follow_up']\n",
    "    base_column_names = ['drug_name', 'dosage', 'frequency', 'used', 'follow_up']\n",
    "    new_df = pd.DataFrame([])\n",
    "    # generate unique list of ssids\n",
    "    ssids = df['ssid'].unique()\n",
    "    ssids.sort()\n",
    "    for i, ssid in enumerate(ssids):\n",
    "        filtered_df = df[df['ssid']==ssid]\n",
    "        filtered_df = filtered_df[filtered_df['follow_up']==str(follow_up_target)]\n",
    "        # copy the row into the new dataframe at the correct point\n",
    "        new_row_dict = {'ssid': ssid}\n",
    "        counter = 1\n",
    "        for key, row in filtered_df.iterrows():\n",
    "            if pd.isnull(row[original_col_names[0]]):\n",
    "                continue\n",
    "            for i, col_name in enumerate(original_col_names):\n",
    "                new_row_dict[base_column_names[i]+'_'+str(counter)] = row[col_name]\n",
    "            counter += 1\n",
    "        # Add new row to dataframe\n",
    "        new_df = new_df.append(new_row_dict, ignore_index=True)\n",
    "        # filter the dataframe to obtain only rows with ssid\n",
    "    return new_df"
   ]
  },
  {
   "cell_type": "code",
   "execution_count": null,
   "id": "3cdec10b",
   "metadata": {},
   "outputs": [],
   "source": [
    "interim6_df = copy.deepcopy(processed_df)\n",
    "six_month_df = create_new_table(interim6_df, 6)\n",
    "six_month_df"
   ]
  },
  {
   "cell_type": "code",
   "execution_count": null,
   "id": "7b6e0240",
   "metadata": {},
   "outputs": [],
   "source": [
    "interim12_df = copy.deepcopy(processed_df)\n",
    "twelve_month_df = create_new_table(interim6_df, 12)\n",
    "twelve_month_df"
   ]
  },
  {
   "cell_type": "code",
   "execution_count": null,
   "id": "70d52105-825c-4de5-99db-fbb9c0f1d19a",
   "metadata": {},
   "outputs": [],
   "source": [
    "six_month_df.columns"
   ]
  },
  {
   "cell_type": "markdown",
   "id": "e9a0fa08",
   "metadata": {},
   "source": [
    "### Add pain meds usage criteria to the dataframes \n",
    "The number of controlled, opiod and non-controlled drugs being used by the patient"
   ]
  },
  {
   "cell_type": "code",
   "execution_count": null,
   "id": "1b4fec14",
   "metadata": {},
   "outputs": [],
   "source": [
    "cntr_pain_meds_plus_opioids = ['Gabapentin', 'Tramadol', 'Pregabalin', 'Morphine Sulphate', 'Fentanyl', 'Oxycodone', \n",
    "                          'Buprenorphine', 'Diazepam', 'Tapentadol', 'Co-codamol', 'Co-dydramol', 'Codeine', \n",
    "                          'Dihydrocodiene', 'Co-proxamol']\n",
    "cntr_pain_meds = ['Gabapentin', 'Tramadol', 'Pregabalin', 'Morphine Sulphate', 'Fentanyl', 'Oxycodone', \n",
    "                          'Buprenorphine', 'Diazepam', 'Tapentadol', 'Co-proxamol']\n",
    "all_pain_meds = list(new_final_dict.keys())\n",
    "all_pain_meds"
   ]
  },
  {
   "cell_type": "code",
   "execution_count": null,
   "id": "4b684b22",
   "metadata": {},
   "outputs": [],
   "source": [
    "cntr_pain_meds"
   ]
  },
  {
   "cell_type": "code",
   "execution_count": null,
   "id": "7216b9c9",
   "metadata": {},
   "outputs": [],
   "source": [
    "def count_pain_meds(row: pd.Series, drug_set: list) -> int:\n",
    "    \"\"\" count the number of entries the patient is taking that are in the drug set given\n",
    "    \n",
    "    args:\n",
    "        row (pd.Series): series representing a row of a DataFrame\n",
    "        drug_set (list): list of the drugs to be included in the count\n",
    "        \n",
    "    return:\n",
    "        count (int): Number of drugs in the set being taken by the patient\n",
    "    \"\"\"\n",
    "    count=0\n",
    "    for col in row:\n",
    "        if col in drug_set:\n",
    "            count +=1\n",
    "    return count\n",
    "\n",
    "\n",
    "def get_class_of_drug(row: pd.Series, col_to_test) -> int:\n",
    "    \"\"\" returns a value to represent the class of the strongest pain drug being taken by a patient\n",
    "    \n",
    "    args:\n",
    "        row (pd.Series): series representing a row of a DataFrame\n",
    "        \n",
    "    returns:\n",
    "        int: 0 if no pain meds, 1 if no controlled drugs, 2 if the patient in using controlled drugs\n",
    "    \"\"\"\n",
    "    contr_drugs = row[col_to_test]\n",
    "    non_cont_drugs = row['All_pain_meds']\n",
    "    if non_cont_drugs == 0 & contr_drugs==0:\n",
    "        return 0\n",
    "    if contr_drugs > 0:\n",
    "        return 2\n",
    "    else:\n",
    "        return 1"
   ]
  },
  {
   "cell_type": "code",
   "execution_count": null,
   "id": "6e8ce252",
   "metadata": {},
   "outputs": [],
   "source": [
    "summary_dict = {\n",
    "    'All_pain_meds': all_pain_meds,\n",
    "    'Num_cont_meds': cntr_pain_meds,\n",
    "    'Num_cont_op_meds': cntr_pain_meds_plus_opioids\n",
    "}"
   ]
  },
  {
   "cell_type": "code",
   "execution_count": null,
   "id": "6a48d001",
   "metadata": {},
   "outputs": [],
   "source": [
    "def add_summary_to_df(df, summary_dict):\n",
    "    for key, value in summary_dict.items():\n",
    "        df[key] = df.apply(lambda x: count_pain_meds(x, value), axis=1)\n",
    "    return df"
   ]
  },
  {
   "cell_type": "code",
   "execution_count": null,
   "id": "6d876ee9",
   "metadata": {},
   "outputs": [],
   "source": [
    "six_month_df = add_summary_to_df(six_month_df, summary_dict)\n",
    "six_month_df.head(10)"
   ]
  },
  {
   "cell_type": "code",
   "execution_count": null,
   "id": "aa6723b1",
   "metadata": {},
   "outputs": [],
   "source": [
    "from functools import partial"
   ]
  },
  {
   "cell_type": "markdown",
   "id": "9a932f9b-3a00-4998-9079-c4ddb265c346",
   "metadata": {},
   "source": [
    "Add columns to define the strongest type of pain meds being taked"
   ]
  },
  {
   "cell_type": "code",
   "execution_count": null,
   "id": "dace686f",
   "metadata": {},
   "outputs": [],
   "source": [
    "assign_class_controlled = partial(get_class_of_drug, col_to_test=\"Num_cont_meds\")\n",
    "assign_class_opioids = partial(get_class_of_drug, col_to_test=\"Num_cont_op_meds\")"
   ]
  },
  {
   "cell_type": "code",
   "execution_count": null,
   "id": "e3f9434a",
   "metadata": {},
   "outputs": [],
   "source": [
    "six_month_df['drug_class'] = six_month_df.apply(lambda x: assign_class_controlled(x), axis=1)"
   ]
  },
  {
   "cell_type": "code",
   "execution_count": null,
   "id": "25d689ba",
   "metadata": {},
   "outputs": [],
   "source": [
    "six_month_df['drug_class_op'] = six_month_df.apply(lambda x: assign_class_opioids(x), axis=1)"
   ]
  },
  {
   "cell_type": "code",
   "execution_count": null,
   "id": "dcd4f452",
   "metadata": {},
   "outputs": [],
   "source": [
    "six_month_df.head(30)"
   ]
  },
  {
   "cell_type": "code",
   "execution_count": null,
   "id": "8ee85c3d",
   "metadata": {},
   "outputs": [],
   "source": [
    "six_month_df.loc[213]"
   ]
  },
  {
   "cell_type": "markdown",
   "id": "379ff720-2017-40e6-8218-7fd22a8d176b",
   "metadata": {},
   "source": [
    "Save the six month dataframe to a csv in the data directory"
   ]
  },
  {
   "cell_type": "code",
   "execution_count": null,
   "id": "3d5f5dc9",
   "metadata": {},
   "outputs": [],
   "source": [
    "path_to_save = path_to_data / Path(\"six_month_summary.csv\")\n",
    "six_month_df.to_csv(path_to_save)"
   ]
  },
  {
   "cell_type": "markdown",
   "id": "0bb0986b-7460-4a32-aab5-6f71a2e9c03b",
   "metadata": {},
   "source": [
    "Repeat the process for the 12 month follow ups"
   ]
  },
  {
   "cell_type": "code",
   "execution_count": null,
   "id": "f297c43b",
   "metadata": {},
   "outputs": [],
   "source": [
    "twelve_month_df = add_summary_to_df(twelve_month_df, summary_dict)\n",
    "twelve_month_df.head(10)"
   ]
  },
  {
   "cell_type": "code",
   "execution_count": null,
   "id": "bf97715d",
   "metadata": {},
   "outputs": [],
   "source": [
    "twelve_month_df['drug_class'] = twelve_month_df.apply(lambda x: assign_class_controlled(x), axis=1)\n",
    "twelve_month_df['drug_class_op'] = twelve_month_df.apply(lambda x: assign_class_opioids(x), axis=1)"
   ]
  },
  {
   "cell_type": "code",
   "execution_count": null,
   "id": "af1b8b36",
   "metadata": {},
   "outputs": [],
   "source": [
    "twelve_month_df.head(30)"
   ]
  },
  {
   "cell_type": "code",
   "execution_count": null,
   "id": "26876e2f",
   "metadata": {},
   "outputs": [],
   "source": [
    "path_to_save = path_to_data / Path(\"twelve_month_summary.csv\")\n",
    "twelve_month_df.to_csv(path_to_save)"
   ]
  },
  {
   "cell_type": "markdown",
   "id": "aec9faf9",
   "metadata": {},
   "source": [
    "### Count usage of drugs"
   ]
  },
  {
   "cell_type": "code",
   "execution_count": null,
   "id": "d0c42cc8",
   "metadata": {},
   "outputs": [],
   "source": [
    "drug_names = list(new_final_dict.keys())\n",
    "drug_names"
   ]
  },
  {
   "cell_type": "code",
   "execution_count": null,
   "id": "ada1024f",
   "metadata": {},
   "outputs": [],
   "source": [
    "count_dict_6 = {}\n",
    "for drug in drug_names:\n",
    "    count_dict_6[drug] = np.sum(six_month_df.values == drug)"
   ]
  },
  {
   "cell_type": "code",
   "execution_count": null,
   "id": "6b627db3",
   "metadata": {},
   "outputs": [],
   "source": [
    "count_dict_6"
   ]
  },
  {
   "cell_type": "code",
   "execution_count": null,
   "id": "a75b222c",
   "metadata": {},
   "outputs": [],
   "source": [
    "count_6_df = pd.DataFrame.from_dict(data=count_dict_6, orient='index', columns=['count'])\n",
    "count_6_df"
   ]
  },
  {
   "cell_type": "code",
   "execution_count": null,
   "id": "af4dc944",
   "metadata": {},
   "outputs": [],
   "source": [
    "count_6_df = count_6_df.sort_values('count')"
   ]
  },
  {
   "cell_type": "code",
   "execution_count": null,
   "id": "534dccbc",
   "metadata": {},
   "outputs": [],
   "source": [
    "count_6_df"
   ]
  },
  {
   "cell_type": "code",
   "execution_count": null,
   "id": "9eb3b154",
   "metadata": {},
   "outputs": [],
   "source": [
    "count_6_df.to_csv(path_to_data / Path(\"count_6_df.csv\"))"
   ]
  },
  {
   "cell_type": "code",
   "execution_count": null,
   "id": "f6b9face",
   "metadata": {},
   "outputs": [],
   "source": [
    "count_dict_12 = {}\n",
    "for drug in drug_names:\n",
    "    count_dict_12[drug] = np.sum(twelve_month_df.values == drug)"
   ]
  },
  {
   "cell_type": "code",
   "execution_count": null,
   "id": "621d5401",
   "metadata": {},
   "outputs": [],
   "source": [
    "count_12_df = pd.DataFrame.from_dict(data=count_dict_12, orient='index', columns=['count'])\n",
    "count_12_df = count_12_df.sort_values('count')\n",
    "count_12_df"
   ]
  },
  {
   "cell_type": "code",
   "execution_count": null,
   "id": "3f466a72",
   "metadata": {},
   "outputs": [],
   "source": [
    "count_12_df.to_csv(path_to_data / Path(\"count_12_df.csv\"))"
   ]
  },
  {
   "cell_type": "code",
   "execution_count": null,
   "id": "03efba44",
   "metadata": {},
   "outputs": [],
   "source": []
  }
 ],
 "metadata": {
  "kernelspec": {
   "display_name": "Python 3 (ipykernel)",
   "language": "python",
   "name": "python3"
  },
  "language_info": {
   "codemirror_mode": {
    "name": "ipython",
    "version": 3
   },
   "file_extension": ".py",
   "mimetype": "text/x-python",
   "name": "python",
   "nbconvert_exporter": "python",
   "pygments_lexer": "ipython3",
   "version": "3.11.4"
  }
 },
 "nbformat": 4,
 "nbformat_minor": 5
}
